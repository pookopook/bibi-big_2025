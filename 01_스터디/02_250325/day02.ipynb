{
 "cells": [
  {
   "cell_type": "markdown",
   "metadata": {},
   "source": [
    "## 2회차 스터디\n",
    " - 건보 학습동아리 비비빅\n",
    " - 미리내 파이썬을 이용한 빅데이터 분석\n",
    " - 2025.3.25.(화)\n",
    " - 오늘 목표: 1회차 복습, 데이터 분석과정, 데이터 불러오기, 시각화\n",
    "\n",
    "## 학습내용\n",
    "### 데이터 정규화와, 분석용 데이터셋\n",
    "#### 들어가며며\n",
    " - Q. 데이터 분석에 있어 가장 많은 시간이 들어가는 작업은?\n",
    "   - 문제 정의\n",
    "   - 데이터 준비 (수집, 전처리, EDA)\n",
    "   - 모델링 (특징 선택, 모델 학습 및 평가)\n",
    "   - 결과 해석 및 적용 (시각화, 의사 결정, 배포)\n",
    "   - 모니터링 및 개선"
   ]
  },
  {
   "cell_type": "markdown",
   "metadata": {},
   "source": [
    "## 마무리\n",
    " - 오늘 목표: 환경설정, 데이터란?, 파이썬 코드(기본), 주피터 노트북\n",
    " - 다음 일정\n",
    "   - 2025.4.8.(화)\n",
    "\n",
    "## 스터디 방법 및 소통채널\n",
    " - [깃허브](https://github.com/pookopook/bibi-big_2025): 코드 및 데이터 공유\n",
    " - [유투브](https://www.youtube.com/@nhisbibibig): 수업실황 업로드(복습)\n",
    " - [구글 클래스](https://classroom.google.com/c/NzMyOTMzMzE4NjI1?cjc=k3edzsd): 숙제/토론/프로젝트\n",
    " - 카톡/메신저: 일정공지 등 안내"
   ]
  }
 ],
 "metadata": {
  "kernelspec": {
   "display_name": "bibiml",
   "language": "python",
   "name": "python3"
  },
  "language_info": {
   "codemirror_mode": {
    "name": "ipython",
    "version": 3
   },
   "file_extension": ".py",
   "mimetype": "text/x-python",
   "name": "python",
   "nbconvert_exporter": "python",
   "pygments_lexer": "ipython3",
   "version": "3.11.11"
  }
 },
 "nbformat": 4,
 "nbformat_minor": 2
}
