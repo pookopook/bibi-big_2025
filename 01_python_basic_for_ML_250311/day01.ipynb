{
 "cells": [
  {
   "cell_type": "markdown",
   "metadata": {},
   "source": [
    "## 1회차 스터디\n",
    " - 건보 학습동아리 비비빅\n",
    " - 미리내 파이썬을 이용한 빅데이터 분석\n",
    " - 2025.3.11.(화) 18:10 ~ 20:30\n",
    "\n",
    "## 스터디 방법 및 소통채널\n",
    " - 깃허브: https://github.com/pookopook/bibi-big_2025\n",
    " - 유투브: https://www.youtube.com/@nhisbibibig\n",
    " - 구글 클래스, 카톡 \n",
    "\n",
    "## 학습내용\n",
    "### 환경설정\n",
    " - 0. python 3.11, 머신러닝, 시각화 환경\n",
    " - 00_환경설정 폴더 참고\n",
    "\n",
    "### 데이터란?\n",
    " - 0. 데이터의 정의\n",
    " - 1. 일상(업무)에서 겪는 문제, 왜 분석이 안되는가?\n",
    "   - i. 엑셀로 데이터를 분석하는 방법(vlookup, pivot)\n",
    "   - ii 올바른 형태로 데이터를 만드는 방법 (DB 정규화)\n",
    "\n",
    " - 4. 엑셀에서 파이썬으로 넘어가기, why?\n",
    "   - 대량의 데이터(빅데이터)\n",
    "   - 여러 테이블의 연계\n",
    "   - 분석 ex. A/B test\n",
    "   - 예측 ml\n",
    "\n",
    "### 파이썬 \n",
    " - 주피터와 익숙해지기 (사용방법 등)\n",
    " - print\n",
    " - 연산자(사칙연산 등)\n",
    " - 변수\n",
    " - 리스트\n",
    " - pandas, csv load, save etc"
   ]
  },
  {
   "cell_type": "markdown",
   "metadata": {},
   "source": []
  }
 ],
 "metadata": {
  "language_info": {
   "name": "python"
  }
 },
 "nbformat": 4,
 "nbformat_minor": 2
}
